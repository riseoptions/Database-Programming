{
  "nbformat": 4,
  "nbformat_minor": 0,
  "metadata": {
    "colab": {
      "provenance": []
    },
    "kernelspec": {
      "name": "python3",
      "display_name": "Python 3"
    },
    "language_info": {
      "name": "python"
    }
  },
  "cells": [
    {
      "cell_type": "markdown",
      "source": [
        "# **Database Optimization Techniques**\n",
        "\n",
        "Database often becomes the bottleneck in software performance. Having an optimized database is essential for high performing systems."
      ],
      "metadata": {
        "id": "WzZWl108yd5p"
      }
    },
    {
      "cell_type": "markdown",
      "source": [
        "# Indexing:\n",
        "**Create Indexes:**\n",
        "\n",
        "Indexes are data structures that provide a quick lookup mechanism, significantly improving query performance. They work by creating a sorted data structure that allows the database engine to quickly locate the rows that satisfy a WHERE clause.\n"
      ],
      "metadata": {
        "id": "NSQMlvFnymm7"
      }
    },
    {
      "cell_type": "code",
      "execution_count": null,
      "metadata": {
        "id": "PB1Xl3qkyc4r"
      },
      "outputs": [],
      "source": [
        "CREATE INDEX idx_username ON users(username);"
      ]
    },
    {
      "cell_type": "markdown",
      "source": [
        "**Use Composite Indexes:**\n",
        "\n",
        "Composite indexes involve multiple columns and are useful for queries that filter or sort based on multiple conditions. This reduces the need for separate indexes on each column and improves the efficiency of the query planner."
      ],
      "metadata": {
        "id": "wh4SwEtmy4k7"
      }
    },
    {
      "cell_type": "code",
      "source": [
        "CREATE INDEX idx_name_age ON employees(name, age);"
      ],
      "metadata": {
        "id": "vNHdZbtBzBp9"
      },
      "execution_count": null,
      "outputs": []
    },
    {
      "cell_type": "markdown",
      "source": [
        "# Normalization and Denormalization:\n",
        "**Normalization:**\n",
        "\n",
        "This process organizes data to minimize redundancy and dependency, reducing the likelihood of data anomalies. By breaking down large tables into smaller, related ones, normalization ensures data consistency. However, it may lead to more complex queries.\n",
        "\n",
        "SQL Code Snippet (Example of Third Normal Form):"
      ],
      "metadata": {
        "id": "4QH_ACL3zFVm"
      }
    },
    {
      "cell_type": "code",
      "source": [
        "CREATE TABLE customers (\n",
        "    customer_id INT PRIMARY KEY,\n",
        "    customer_name VARCHAR(100),\n",
        "    address VARCHAR(255)\n",
        ");\n",
        "\n",
        "CREATE TABLE orders (\n",
        "    order_id INT PRIMARY KEY,\n",
        "    customer_id INT,\n",
        "    order_date DATE,\n",
        "    FOREIGN KEY (customer_id) REFERENCES customers(customer_id)\n",
        ");"
      ],
      "metadata": {
        "id": "Ds6QYG5e-u4s"
      },
      "execution_count": null,
      "outputs": []
    },
    {
      "cell_type": "markdown",
      "source": [
        "**Denormalization:**\n",
        "\n",
        "While normalization reduces redundancy, denormalization introduces controlled redundancy to improve query performance, especially for read-heavy operations. This can involve adding redundant columns or tables strategically."
      ],
      "metadata": {
        "id": "XS8V3SX9-x2w"
      }
    },
    {
      "cell_type": "code",
      "source": [
        "CREATE TABLE denormalized_orders (\n",
        "    order_id INT PRIMARY KEY,\n",
        "    customer_id INT,\n",
        "    customer_name VARCHAR(100),\n",
        "    order_date DATE\n",
        ");"
      ],
      "metadata": {
        "id": "n0c1P9zv-0yP"
      },
      "execution_count": null,
      "outputs": []
    },
    {
      "cell_type": "markdown",
      "source": [
        "# Query Optimization\n",
        "**Optimize Queries:**\n",
        "\n",
        "Regularly analyze and optimize frequently used queries. Use tools like EXPLAIN to understand the query execution plan and identify areas for improvement."
      ],
      "metadata": {
        "id": "sC5A94wc-3L_"
      }
    },
    {
      "cell_type": "code",
      "source": [
        "EXPLAIN SELECT * FROM orders WHERE customer_id = 123;"
      ],
      "metadata": {
        "id": "39Unizt6-6Jf"
      },
      "execution_count": null,
      "outputs": []
    },
    {
      "cell_type": "markdown",
      "source": [
        "# Avoid SELECT *:\n",
        "\n",
        "Retrieve only the necessary columns rather than selecting all columns. This reduces the amount of data transferred and processed, improving query performance."
      ],
      "metadata": {
        "id": "14CvUegB-9SH"
      }
    },
    {
      "cell_type": "code",
      "source": [
        "SELECT order_id, order_date FROM orders WHERE customer_id = 123;"
      ],
      "metadata": {
        "id": "iP_9w6Y8_QJZ"
      },
      "execution_count": null,
      "outputs": []
    },
    {
      "cell_type": "markdown",
      "source": [
        "# Partitioning\n",
        "**Partition Tables:**\n",
        "\n",
        "Partitioning involves dividing large tables into smaller, more manageable pieces. This can significantly improve query performance by allowing the database engine to work on smaller subsets of data, leading to faster query execution."
      ],
      "metadata": {
        "id": "3V4_4nwl_S4n"
      }
    },
    {
      "cell_type": "code",
      "source": [
        "CREATE TABLE sales (\n",
        "    sale_id INT PRIMARY KEY,\n",
        "    sale_date DATE,\n",
        "    amount DECIMAL(10, 2)\n",
        ") PARTITION BY RANGE (YEAR(sale_date)) (\n",
        "    PARTITION p0 VALUES LESS THAN (1990),\n",
        "    PARTITION p1 VALUES LESS THAN (2000),\n",
        "    PARTITION p2 VALUES LESS THAN (2010),\n",
        "    PARTITION p3 VALUES LESS THAN (2020),\n",
        "    PARTITION p4 VALUES LESS THAN (MAXVALUE)\n",
        ");"
      ],
      "metadata": {
        "id": "G_ctTrcw_V5n"
      },
      "execution_count": null,
      "outputs": []
    },
    {
      "cell_type": "markdown",
      "source": [
        "**Partition Pruning:**\n",
        "\n",
        "Ensure that the query planner prunes unnecessary partitions during query execution. This prevents scanning the entire dataset and improves performance."
      ],
      "metadata": {
        "id": "TGxyr1cR_Yv8"
      }
    },
    {
      "cell_type": "code",
      "source": [
        "SELECT * FROM sales WHERE sale_date >= '2022-01-01' AND sale_date < '2023-01-01';"
      ],
      "metadata": {
        "id": "IGkcYzDH_bxD"
      },
      "execution_count": null,
      "outputs": []
    },
    {
      "cell_type": "markdown",
      "source": [
        "# Caching\n",
        "**Query Caching:**\n",
        "\n",
        "Implement a caching mechanism to store the results of frequently executed queries. This reduces the load on the database by serving cached results, enhancing response times."
      ],
      "metadata": {
        "id": "8Y0N0DH9_eZw"
      }
    },
    {
      "cell_type": "code",
      "source": [
        "-- Pseudocode\n",
        "DECLARE @cacheKey NVARCHAR(255) = 'query_cache_key';\n",
        "DECLARE @cachedResult NVARCHAR(MAX);\n",
        "\n",
        "SET @cachedResult = REDIS.GET(@cacheKey);\n",
        "\n",
        "IF @cachedResult IS NULL\n",
        "BEGIN\n",
        "    -- Execute the query and store the result in the cache\n",
        "    SET @cachedResult = EXECUTE_QUERY('SELECT * FROM large_table');\n",
        "    REDIS.SET(@cacheKey, @cachedResult, EXPIRY_TIME);\n",
        "END\n",
        "\n",
        "-- Use @cachedResult for further processing"
      ],
      "metadata": {
        "id": "nV163how_jnA"
      },
      "execution_count": null,
      "outputs": []
    },
    {
      "cell_type": "markdown",
      "source": [
        "**Object Caching:**\n",
        "\n",
        "Cache frequently accessed objects or data in the application layer to minimize database queries. This can be achieved using in-memory caching libraries or frameworks."
      ],
      "metadata": {
        "id": "eUQVF_9d_l_G"
      }
    },
    {
      "cell_type": "code",
      "source": [
        "from django.core.cache import cache\n",
        "\n",
        "def get_user_data(user_id):\n",
        "    # Try to fetch user data from cache\n",
        "    user_data = cache.get(f'user_{user_id}')\n",
        "\n",
        "    if user_data is None:\n",
        "        # If not in cache, fetch from the database\n",
        "        user_data = User.objects.get(id=user_id)\n",
        "\n",
        "        # Store the data in cache for future requests\n",
        "        cache.set(f'user_{user_id}', user_data, TIMEOUT)\n",
        "\n",
        "    return user_data"
      ],
      "metadata": {
        "id": "iNhk-90L_tV0"
      },
      "execution_count": null,
      "outputs": []
    },
    {
      "cell_type": "markdown",
      "source": [
        "# Regular Maintenance:\n",
        "**Update Statistics:**\n",
        "\n",
        "Keeping statistics up-to-date is crucial for the query planner to make informed decisions about execution plans. Regularly update statistics to ensure accurate and efficient query optimization."
      ],
      "metadata": {
        "id": "-WpNUGJE_wDI"
      }
    },
    {
      "cell_type": "code",
      "source": [
        "-- Update statistics for a table\n",
        "UPDATE STATISTICS table_name;"
      ],
      "metadata": {
        "id": "-jIIGcGU_ymQ"
      },
      "execution_count": null,
      "outputs": []
    },
    {
      "cell_type": "markdown",
      "source": [
        "**Data Archiving:**\n",
        "\n",
        "Archive or purge old data that is no longer needed. This can improve query performance and reduce storage requirements, especially in systems with large historical datasets."
      ],
      "metadata": {
        "id": "qbEyjUiY_1IH"
      }
    },
    {
      "cell_type": "code",
      "source": [
        "-- Archive data older than a certain date\n",
        "DELETE FROM historical_data WHERE date < '2020-01-01';"
      ],
      "metadata": {
        "id": "jrqeNBzU_31I"
      },
      "execution_count": null,
      "outputs": []
    },
    {
      "cell_type": "markdown",
      "source": [
        "# Hardware Optimization:\n",
        "**Optimize Server Configuration:**\n",
        "\n",
        "Adjust database server settings and configurations based on the workload and hardware capabilities. This includes parameters such as buffer sizes, cache settings, and connection limits."
      ],
      "metadata": {
        "id": "eBjygQfo_6XL"
      }
    },
    {
      "cell_type": "code",
      "source": [
        "-- Example: Increase the size of the query cache\n",
        "SET GLOBAL query_cache_size = 256M;"
      ],
      "metadata": {
        "id": "BtwcIE4w_8zh"
      },
      "execution_count": null,
      "outputs": []
    },
    {
      "cell_type": "markdown",
      "source": [
        "**Use SSDs:**\n",
        "\n",
        "Consider using Solid State Drives (SSDs) for storage. SSDs provide faster data access compared to traditional Hard Disk Drives (HDDs), resulting in improved overall database performance."
      ],
      "metadata": {
        "id": "qI2Qaq2j__jY"
      }
    },
    {
      "cell_type": "markdown",
      "source": [
        "# Concurrency Control:\n",
        "**Isolation Levels:**\n",
        "\n",
        "Adjust isolation levels based on the requirements of your application. Isolation levels control the visibility of changes made by one transaction to other transactions. Choosing the appropriate isolation level is crucial for balancing consistency and performance."
      ],
      "metadata": {
        "id": "CgE08pacAERX"
      }
    },
    {
      "cell_type": "code",
      "source": [
        "-- Set isolation level to READ COMMITTED\n",
        "SET TRANSACTION ISOLATION LEVEL READ COMMITTED;"
      ],
      "metadata": {
        "id": "jGHL6SXDAB4g"
      },
      "execution_count": null,
      "outputs": []
    },
    {
      "cell_type": "markdown",
      "source": [
        "# Connection Pooling:\n",
        "**Use Connection Pooling:**\n",
        "\n",
        "Reuse database connections to avoid the overhead of establishing new connections for each request. Connection pooling helps manage and reuse database connections efficiently."
      ],
      "metadata": {
        "id": "C7wmk3bwAIJI"
      }
    },
    {
      "cell_type": "code",
      "source": [
        "HikariConfig config = new HikariConfig();\n",
        "config.setJdbcUrl(\"jdbc:mysql://localhost:3306/database\");\n",
        "config.setUsername(\"username\");\n",
        "config.setPassword(\"password\");\n",
        "config.setMaximumPoolSize(10);"
      ],
      "metadata": {
        "id": "KGeFJ6uQAKWY"
      },
      "execution_count": null,
      "outputs": []
    },
    {
      "cell_type": "markdown",
      "source": [
        "# Database Design:\n",
        "**Efficient Schema Design:**\n",
        "\n",
        "Design the database schema with performance in mind. Optimize data types, use appropriate constraints, and minimize unnecessary relationships. A well-designed schema can significantly impact query efficiency."
      ],
      "metadata": {
        "id": "pZ8Qpx4BAMec"
      }
    },
    {
      "cell_type": "code",
      "source": [
        "CREATE TABLE products (\n",
        "    product_id INT PRIMARY KEY,\n",
        "    product_name VARCHAR(255),\n",
        "    price DECIMAL(10, 2),\n",
        "    -- Additional columns as needed\n",
        ");"
      ],
      "metadata": {
        "id": "uYCGtvZnAPNo"
      },
      "execution_count": null,
      "outputs": []
    },
    {
      "cell_type": "markdown",
      "source": [
        "# Monitoring and Profiling:\n",
        "**Regular Monitoring:**\n",
        "\n",
        "Implement monitoring tools to track database performance over time. Regularly monitor key metrics such as CPU usage, memory usage, and query execution times to identify potential issues."
      ],
      "metadata": {
        "id": "MzqA-KCfARm5"
      }
    },
    {
      "cell_type": "code",
      "source": [
        "SHOW STATUS LIKE 'cpu%';"
      ],
      "metadata": {
        "id": "XYrFrl-aAT3Q"
      },
      "execution_count": null,
      "outputs": []
    },
    {
      "cell_type": "markdown",
      "source": [
        "**Profiling Queries:**\n",
        "\n",
        "Profile and analyze the performance of individual queries to pinpoint bottlenecks. Tools like the MySQL Performance Schema can provide detailed insights into query execution."
      ],
      "metadata": {
        "id": "5zgt2jwCAWas"
      }
    },
    {
      "cell_type": "code",
      "source": [
        "-- Enable Performance Schema\n",
        "SET GLOBAL performance_schema = ON;\n",
        "\n",
        "-- Profile a specific query\n",
        "SELECT * FROM orders WHERE customer_id = 123;"
      ],
      "metadata": {
        "id": "pgF1gI6YAY9v"
      },
      "execution_count": null,
      "outputs": []
    },
    {
      "cell_type": "markdown",
      "source": [
        "# 1. Indeksite kasutamine\n",
        "Indeksid kiirendavad päringute töötlemist, luues tabelisse lisastruktuuri, mis teeb otsingu kiiremaks.\n",
        "\n",
        "Näide: Kujutame ette, et meil on tabel Employees, kus on palju ridu. Kui tahame leida töötajat nime järgi, oleks mõistlik luua indeks veerule name:"
      ],
      "metadata": {
        "id": "p95SldgBAbwM"
      }
    },
    {
      "cell_type": "code",
      "source": [
        "CREATE INDEX idx_name ON Employees(name);"
      ],
      "metadata": {
        "id": "BAui6l9JBiJ_"
      },
      "execution_count": null,
      "outputs": []
    },
    {
      "cell_type": "markdown",
      "source": [
        "Nüüd, kui sooritad järgneva päringu,\n",
        "töötleb andmebaas seda palju kiiremini, kuna see kasutab eelnevalt loodud indeksit."
      ],
      "metadata": {
        "id": "YQ5nVNBjBrS3"
      }
    },
    {
      "cell_type": "code",
      "source": [
        "SELECT * FROM Employees WHERE name = 'John Doe';"
      ],
      "metadata": {
        "id": "II_-fPmcBk08"
      },
      "execution_count": null,
      "outputs": []
    },
    {
      "cell_type": "markdown",
      "source": [
        "# 2. **Vältige SELECT ***\n",
        "SELECT * pärib kõik veerud tabelist, mis võib olla väga ressursimahukas, eriti kui enamikku andmeid ei ole vaja. Parem on valida ainult vajalikud veerud.\n",
        "\n",
        "Näide:"
      ],
      "metadata": {
        "id": "FS2Ans1YB7X_"
      }
    },
    {
      "cell_type": "code",
      "source": [
        "-- Halvem variant\n",
        "SELECT * FROM Employees;\n",
        "\n",
        "-- Parem variant\n",
        "SELECT name, position FROM Employees;"
      ],
      "metadata": {
        "id": "r_H0OqECB8-4"
      },
      "execution_count": null,
      "outputs": []
    },
    {
      "cell_type": "markdown",
      "source": [
        "# 3. Väljade normaliseerimine\n",
        "Normaliseerimine tähendab andmete jaotamist mitmesse tabelisse, et vähendada andmete kordumist ja muuta andmebaas tõhusamaks.\n",
        "\n",
        "Näide: Kui teil on tabel Orders, kus iga tellimus sisaldab ka kliendi andmeid, siis võib olla mõistlik viia kliendi andmed eraldi tabelisse Customers ja viidata Orders tabelis Customers tabeli ID-le."
      ],
      "metadata": {
        "id": "Qqquf1eqB-lY"
      }
    },
    {
      "cell_type": "code",
      "source": [
        "-- Ebaefektiivne struktuur\n",
        "Orders (order_id, customer_name, customer_address, ...)\n",
        "\n",
        "-- Parem struktuur\n",
        "Customers (customer_id, customer_name, customer_address, ...)\n",
        "Orders (order_id, customer_id, ...)"
      ],
      "metadata": {
        "id": "ymYVMd-VCCwP"
      },
      "execution_count": null,
      "outputs": []
    },
    {
      "cell_type": "markdown",
      "source": [
        "# 4. JOIN-i efektiivne kasutamine\n",
        "JOIN-i kasutamine võib olla kulukas, eriti kui seotud tabelid on suured. Oluline on kasutada õiget tüüpi JOIN-i ja tagada, et JOIN-tingimused kasutavad indekseid.\n",
        "\n",
        "Näide: Kui liidad suurt Orders tabelit väiksema Customers tabeliga:"
      ],
      "metadata": {
        "id": "MvedpxADCEtY"
      }
    },
    {
      "cell_type": "code",
      "source": [
        "-- Halvem variant\n",
        "SELECT * FROM Orders, Customers WHERE Orders.customer_id = Customers.customer_id;\n",
        "\n",
        "-- Parem variant\n",
        "SELECT Orders.order_id, Customers.customer_name\n",
        "FROM Orders\n",
        "JOIN Customers ON Orders.customer_id = Customers.customer_id;"
      ],
      "metadata": {
        "id": "O5YrDJj1CLHz"
      },
      "execution_count": null,
      "outputs": []
    },
    {
      "cell_type": "markdown",
      "source": [
        "# 5. WHERE tingimuste optimeerimine\n",
        "Tingimuste kasutamine WHERE lauses võib olla märkimisväärne jõudluse parendaja, kui kasutatakse indekseid ja vältitakse keerulisi funktsioone.\n",
        "\n",
        "Näide:"
      ],
      "metadata": {
        "id": "SqmsS2pHCOAg"
      }
    },
    {
      "cell_type": "code",
      "source": [
        "-- Halvem variant (väldib indeksite kasutamist, kui `date` veerul on indeks)\n",
        "SELECT * FROM Orders WHERE YEAR(order_date) = 2023;\n",
        "\n",
        "-- Parem variant (kasutab indekseid)\n",
        "SELECT * FROM Orders WHERE order_date BETWEEN '2023-01-01' AND '2023-12-31';"
      ],
      "metadata": {
        "id": "JS9sFuJICQjJ"
      },
      "execution_count": null,
      "outputs": []
    },
    {
      "cell_type": "markdown",
      "source": [
        "# 6. Liiga paljude JOIN-ide ja ALAMpäringute vältimine\n",
        "Suured päringud, mis kasutavad palju JOIN-e ja alampäringuid, võivad muutuda aeglaseks. Mõnikord on parem jagada päringud mitmeks väiksemaks päringuks.\n",
        "\n",
        "Näide: Kui päringus on palju JOIN-e, kaalu päringu jaotamist väiksemateks osadeks või kasutades ajutisi tabeleid:"
      ],
      "metadata": {
        "id": "JEav4ISpCSNA"
      }
    },
    {
      "cell_type": "code",
      "source": [
        "-- Alternatiiv suurele JOIN päringule\n",
        "CREATE TEMPORARY TABLE TempOrders AS\n",
        "SELECT * FROM Orders WHERE order_date BETWEEN '2023-01-01' AND '2023-12-31';\n",
        "\n",
        "SELECT * FROM TempOrders JOIN Customers ON TempOrders.customer_id = Customers.customer_id;"
      ],
      "metadata": {
        "id": "HGf9W0CnCYhM"
      },
      "execution_count": null,
      "outputs": []
    },
    {
      "cell_type": "markdown",
      "source": [
        "# 7. Vaadete (Views) kasutamine keerukate päringute puhul\n",
        "Kui sul on keerukaid päringuid, mida kasutatakse sageli, võib olla kasulik luua neist vaade (view), mis teeb nende kasutamise lihtsamaks ja kiiremini töötavaks.\n",
        "\n",
        "Näide:"
      ],
      "metadata": {
        "id": "aCFFsonBCaSA"
      }
    },
    {
      "cell_type": "code",
      "source": [
        "CREATE VIEW OrderSummary AS\n",
        "SELECT customer_id, COUNT(order_id) AS order_count, SUM(order_amount) AS total_spent\n",
        "FROM Orders\n",
        "GROUP BY customer_id;"
      ],
      "metadata": {
        "id": "g1DWdQLcCex4"
      },
      "execution_count": null,
      "outputs": []
    },
    {
      "cell_type": "markdown",
      "source": [
        "Nüüd saad vaadet kasutada lihtsates päringutes:"
      ],
      "metadata": {
        "id": "oAA60qzBCgWh"
      }
    },
    {
      "cell_type": "code",
      "source": [
        "SELECT * FROM OrderSummary WHERE total_spent > 1000;"
      ],
      "metadata": {
        "id": "cFbnmMinCjmV"
      },
      "execution_count": null,
      "outputs": []
    },
    {
      "cell_type": "markdown",
      "source": [
        "# 8. Tabelite ja andmete arhiivimine\n",
        "Suure mahuga tabelid võivad aeglustada päringuid. Vana või vähekasutatav info võiks arhiivida eraldi tabelitesse.\n",
        "\n",
        "Näide:"
      ],
      "metadata": {
        "id": "onJUo4WzCmlI"
      }
    },
    {
      "cell_type": "code",
      "source": [
        "-- Liigutame vanad tellimused arhiivitabelisse\n",
        "INSERT INTO ArchivedOrders SELECT * FROM Orders WHERE order_date < '2023-01-01';\n",
        "DELETE FROM Orders WHERE order_date < '2023-01-01';"
      ],
      "metadata": {
        "id": "MpuWB0LeCqTp"
      },
      "execution_count": null,
      "outputs": []
    },
    {
      "cell_type": "markdown",
      "source": [
        "# 9. Andmebaasi ühenduste ja seansside optimeerimine\n",
        "Paljude ühenduste haldamine võib koormata andmebaasi. Seetõttu tuleks ühendused ja seansid optimeerida, kasutades näiteks ühenduste taas- ja koondkasutamist."
      ],
      "metadata": {
        "id": "bvIMgIO-CsY5"
      }
    },
    {
      "cell_type": "markdown",
      "source": [
        "# **Optimeerimise näited.**"
      ],
      "metadata": {
        "id": "mM0Rk_keFFEA"
      }
    },
    {
      "cell_type": "markdown",
      "source": [
        "# 1. GROUP BY optimeerimine"
      ],
      "metadata": {
        "id": "SY0ZWXRDFIVp"
      }
    },
    {
      "cell_type": "code",
      "source": [
        "-- Algne päring\n",
        "SELECT department, COUNT(*)\n",
        "FROM Employees\n",
        "GROUP BY department;"
      ],
      "metadata": {
        "id": "uxwzff_CFLd2"
      },
      "execution_count": null,
      "outputs": []
    },
    {
      "cell_type": "code",
      "source": [
        "-- Optimeeritud päring\n",
        "SELECT department, COUNT(employee_id)\n",
        "FROM Employees\n",
        "GROUP BY department;"
      ],
      "metadata": {
        "id": "ijAcBywWFODE"
      },
      "execution_count": null,
      "outputs": []
    },
    {
      "cell_type": "markdown",
      "source": [
        "Selgitus: COUNT(*) loeb kõik read, kuid COUNT konkreetse veeru järgi (näiteks employee_id) võib olla kiirem, eriti kui veerg on indekseeritud."
      ],
      "metadata": {
        "id": "5rYFuWw4FQNd"
      }
    },
    {
      "cell_type": "markdown",
      "source": [
        "# 2. LIMIT ja ORDER BY kombinatsioon"
      ],
      "metadata": {
        "id": "g6DeG0O3FbvQ"
      }
    },
    {
      "cell_type": "code",
      "source": [
        "-- Algne päring:\n",
        "SELECT * FROM Orders\n",
        "ORDER BY order_date DESC;"
      ],
      "metadata": {
        "id": "sPy7c5ccFfNc"
      },
      "execution_count": null,
      "outputs": []
    },
    {
      "cell_type": "code",
      "source": [
        "-- Optimeeritud päring:\n",
        "SELECT * FROM Orders\n",
        "ORDER BY order_date DESC\n",
        "LIMIT 10;"
      ],
      "metadata": {
        "id": "zAg_c4fZFhBG"
      },
      "execution_count": null,
      "outputs": []
    },
    {
      "cell_type": "markdown",
      "source": [
        "Selgitus: Kui soovite ainult esimesi tulemusi, kasutage LIMIT, et vähendada tagastatavate ridade arvu ja kiirendada päringu töötlemist."
      ],
      "metadata": {
        "id": "2A7IJNMpFjra"
      }
    },
    {
      "cell_type": "markdown",
      "source": [
        "# 3. LIKE optimeerimine"
      ],
      "metadata": {
        "id": "uAHJzmsJFxEg"
      }
    },
    {
      "cell_type": "code",
      "source": [
        "-- Algne päring:\n",
        "SELECT * FROM Employees\n",
        "WHERE name LIKE '%John%';"
      ],
      "metadata": {
        "id": "08FpJ9xRFzlI"
      },
      "execution_count": null,
      "outputs": []
    },
    {
      "cell_type": "code",
      "source": [
        "-- Optimeeritud päring:\n",
        "SELECT * FROM Employees\n",
        "WHERE name LIKE 'John%';"
      ],
      "metadata": {
        "id": "Z0C-VtIOF1px"
      },
      "execution_count": null,
      "outputs": []
    },
    {
      "cell_type": "markdown",
      "source": [
        "Selgitus: Kui võimalik, vältige LIKE mustreid, mis algavad '%...', kuna need takistavad indeksi kasutamist. Otsing LIKE 'John%' suudab kasutada indekseid ja on palju kiirem."
      ],
      "metadata": {
        "id": "FvckvScoF84I"
      }
    },
    {
      "cell_type": "markdown",
      "source": [
        "# 4. JOIN tingimuse optimeerimine"
      ],
      "metadata": {
        "id": "UVaz2-bVF_7V"
      }
    },
    {
      "cell_type": "code",
      "source": [
        "-- Algne päring:\n",
        "SELECT Orders.order_id, Customers.name\n",
        "FROM Orders, Customers\n",
        "WHERE Orders.customer_id = Customers.customer_id\n",
        "AND Orders.order_date > '2023-01-01';"
      ],
      "metadata": {
        "id": "03RYovKxGH4l"
      },
      "execution_count": null,
      "outputs": []
    },
    {
      "cell_type": "code",
      "source": [
        "-- Optimeeritud päring:\n",
        "SELECT Orders.order_id, Customers.name\n",
        "FROM Orders\n",
        "JOIN Customers ON Orders.customer_id = Customers.customer_id\n",
        "WHERE Orders.order_date > '2023-01-01';"
      ],
      "metadata": {
        "id": "e82SnKBzGJ9a"
      },
      "execution_count": null,
      "outputs": []
    },
    {
      "cell_type": "markdown",
      "source": [
        "Selgitus: Kasutage alati JOIN sünteksit, mis on paremini loetav ja optimeerib päringu täitmist. SQL optimeerijad eelistavad seda vormi."
      ],
      "metadata": {
        "id": "N1GNc_V1GQHA"
      }
    },
    {
      "cell_type": "markdown",
      "source": [
        "# 5. HAVING ja WHERE kasutamine"
      ],
      "metadata": {
        "id": "IQGv3cZsGSfh"
      }
    },
    {
      "cell_type": "code",
      "source": [
        "-- Algne päring:\n",
        "SELECT department, COUNT(*)\n",
        "FROM Employees\n",
        "GROUP BY department\n",
        "HAVING COUNT(*) > 5;"
      ],
      "metadata": {
        "id": "-Jo3sYRPGVWk"
      },
      "execution_count": null,
      "outputs": []
    },
    {
      "cell_type": "code",
      "source": [
        "-- Optimeeritud päring:\n",
        "SELECT department, COUNT(*)\n",
        "FROM Employees\n",
        "WHERE department IS NOT NULL\n",
        "GROUP BY department\n",
        "HAVING COUNT(*) > 5;"
      ],
      "metadata": {
        "id": "imJ_zNyWGY0J"
      },
      "execution_count": null,
      "outputs": []
    },
    {
      "cell_type": "markdown",
      "source": [
        "Selgitus: Kui võimalik, viige filtreerimine WHERE klausli kaudu läbi enne rühmitamist, et vähendada päringu töötlemiseks vajalikku andmehulka."
      ],
      "metadata": {
        "id": "qZwkjfXzGeo1"
      }
    },
    {
      "cell_type": "markdown",
      "source": [
        "# 6. Päringute mittevajalike veergude eemaldamine"
      ],
      "metadata": {
        "id": "ckuttX3vGhXS"
      }
    },
    {
      "cell_type": "code",
      "source": [
        "-- Algne päring:\n",
        "SELECT order_id, order_date, customer_id, product_id, quantity, price\n",
        "FROM Orders\n",
        "WHERE order_date BETWEEN '2023-01-01' AND '2023-12-31';"
      ],
      "metadata": {
        "id": "tfr_kmCCGkk9"
      },
      "execution_count": null,
      "outputs": []
    },
    {
      "cell_type": "code",
      "source": [
        "-- Optimeeritud päring:\n",
        "SELECT order_id, order_date, customer_id\n",
        "FROM Orders\n",
        "WHERE order_date BETWEEN '2023-01-01' AND '2023-12-31';"
      ],
      "metadata": {
        "id": "hgG9d491GmpZ"
      },
      "execution_count": null,
      "outputs": []
    },
    {
      "cell_type": "markdown",
      "source": [
        "Selgitus: Valige ainult need veerud, mida tegelikult vajate. See vähendab andmete kogust, mida tuleb töödelda ja üle võrgu edastada."
      ],
      "metadata": {
        "id": "Fx-G9o0-Gs6i"
      }
    },
    {
      "cell_type": "markdown",
      "source": [
        "# 7. Alampäringu (Subquery) optimeerimine"
      ],
      "metadata": {
        "id": "kWVeqzgnGvZx"
      }
    },
    {
      "cell_type": "code",
      "source": [
        "-- Algne päring:\n",
        "SELECT * FROM Employees\n",
        "WHERE salary > (SELECT AVG(salary) FROM Employees);"
      ],
      "metadata": {
        "id": "0qd4VKSsHRiJ"
      },
      "execution_count": null,
      "outputs": []
    },
    {
      "cell_type": "code",
      "source": [
        "-- Optimeeritud päring:\n",
        "SELECT e.*\n",
        "FROM Employees e\n",
        "JOIN (SELECT AVG(salary) AS avg_salary FROM Employees) AS subquery\n",
        "ON e.salary > subquery.avg_salary;"
      ],
      "metadata": {
        "id": "qPKg5vi8HSJ2"
      },
      "execution_count": null,
      "outputs": []
    },
    {
      "cell_type": "markdown",
      "source": [
        "Selgitus: Kasutades JOIN-i alampäringuga, mida täidetakse ainult üks kord, saate vähendada alampäringu mitmekordset täitmist ja kiirendada päringut."
      ],
      "metadata": {
        "id": "EVndQdyTHEI6"
      }
    },
    {
      "cell_type": "markdown",
      "source": [
        "# 8. DISTINCT vs. GROUP BY"
      ],
      "metadata": {
        "id": "yv_0-fg4G0l6"
      }
    },
    {
      "cell_type": "code",
      "source": [
        "-- Algne päring:\n",
        "SELECT DISTINCT department_id\n",
        "FROM Employees;"
      ],
      "metadata": {
        "id": "PW48lebDHTYq"
      },
      "execution_count": null,
      "outputs": []
    },
    {
      "cell_type": "code",
      "source": [
        "-- Optimeeritud päring:\n",
        "SELECT department_id\n",
        "FROM Employees\n",
        "GROUP BY department_id;"
      ],
      "metadata": {
        "id": "Q_jh8xKwHT4q"
      },
      "execution_count": null,
      "outputs": []
    },
    {
      "cell_type": "markdown",
      "source": [
        "Selgitus: Mõnel juhul töötab GROUP BY kiiremini kui DISTINCT, eriti suurte andmekogumite puhul."
      ],
      "metadata": {
        "id": "254Xb1sqHH4K"
      }
    },
    {
      "cell_type": "markdown",
      "source": [
        "# 9. Transaktsioonide optimeerimine"
      ],
      "metadata": {
        "id": "YlbemohdG3qo"
      }
    },
    {
      "cell_type": "code",
      "source": [
        "-- Algne päring:\n",
        "BEGIN;\n",
        "UPDATE Orders SET status = 'Processed' WHERE order_id = 1;\n",
        "UPDATE Inventory SET stock = stock - 1 WHERE product_id = 1;\n",
        "COMMIT;"
      ],
      "metadata": {
        "id": "1FKsuS21HUr5"
      },
      "execution_count": null,
      "outputs": []
    },
    {
      "cell_type": "code",
      "source": [
        "-- Optimeeritud päring:\n",
        "BEGIN;\n",
        "UPDATE Orders SET status = 'Processed' WHERE order_id = 1;\n",
        "UPDATE Inventory SET stock = stock - 1 WHERE product_id = 1;\n",
        "COMMIT;"
      ],
      "metadata": {
        "id": "jRVGjt2bHVP5"
      },
      "execution_count": null,
      "outputs": []
    },
    {
      "cell_type": "markdown",
      "source": [
        "Selgitus: Kuigi need kaks päringut tunduvad samad, on oluline märkida, et transaktsioone tuleks kasutada ainult seal, kus need on vajalikud, ning need tuleks hoida võimalikult lühikesed. Optimeerimiseks saab kasutada ka indekseid, et kiirendada nende päringute täitmist transaktsioonide sees."
      ],
      "metadata": {
        "id": "yV4m5zPxHLkX"
      }
    },
    {
      "cell_type": "markdown",
      "source": [
        "# 10. NOT IN vs NOT EXISTS"
      ],
      "metadata": {
        "id": "GwZsFMWRG7Da"
      }
    },
    {
      "cell_type": "code",
      "source": [
        "-- Algne päring:\n",
        "SELECT * FROM Employees\n",
        "WHERE department_id NOT IN (SELECT department_id FROM Departments WHERE active = 0);"
      ],
      "metadata": {
        "id": "jpRV_bWIHV25"
      },
      "execution_count": null,
      "outputs": []
    },
    {
      "cell_type": "code",
      "source": [
        "-- Optimeeritud päring:\n",
        "SELECT * FROM Employees e\n",
        "WHERE NOT EXISTS (SELECT 1 FROM Departments d WHERE e.department_id = d.department_id AND d.active = 0);"
      ],
      "metadata": {
        "id": "jKe_98a9HWAa"
      },
      "execution_count": null,
      "outputs": []
    },
    {
      "cell_type": "markdown",
      "source": [
        "Selgitus: NOT EXISTS on tihti efektiivsem kui NOT IN, kuna see lõpetab otsingu kohe, kui leiab sobiva vaste."
      ],
      "metadata": {
        "id": "kkpxPDRfG-lJ"
      }
    }
  ]
}